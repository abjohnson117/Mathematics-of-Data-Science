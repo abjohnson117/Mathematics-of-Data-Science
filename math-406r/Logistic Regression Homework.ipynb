{
 "cells": [
  {
   "cell_type": "code",
   "execution_count": 19,
   "metadata": {},
   "outputs": [],
   "source": [
    "### Exercise 2\n",
    "import numpy as np\n",
    "import statsmodels.api as sm\n",
    "import statsmodels.formula.api as smf\n",
    "import pandas as pd\n",
    "\n",
    "df = np.load('challenger.npy')\n",
    "df = pd.DataFrame(data=df, columns=[\"X1\",\"Y\"])\n",
    "df[\"X\"] = 1\n",
    "x = df[[\"X\",\"X1\"]]\n",
    "y = df[[\"Y\"]]"
   ]
  },
  {
   "cell_type": "code",
   "execution_count": 20,
   "metadata": {},
   "outputs": [
    {
     "name": "stdout",
     "output_type": "stream",
     "text": [
      "Optimization terminated successfully.\n",
      "         Current function value: 0.441635\n",
      "         Iterations 7\n",
      "                           Logit Regression Results                           \n",
      "==============================================================================\n",
      "Dep. Variable:                      Y   No. Observations:                   23\n",
      "Model:                          Logit   Df Residuals:                       21\n",
      "Method:                           MLE   Df Model:                            1\n",
      "Date:                Tue, 03 Nov 2020   Pseudo R-squ.:                  0.2813\n",
      "Time:                        19:44:10   Log-Likelihood:                -10.158\n",
      "converged:                       True   LL-Null:                       -14.134\n",
      "Covariance Type:            nonrobust   LLR p-value:                  0.004804\n",
      "==============================================================================\n",
      "                 coef    std err          z      P>|z|      [0.025      0.975]\n",
      "------------------------------------------------------------------------------\n",
      "X             15.0429      7.379      2.039      0.041       0.581      29.505\n",
      "X1            -0.2322      0.108     -2.145      0.032      -0.444      -0.020\n",
      "==============================================================================\n"
     ]
    }
   ],
   "source": [
    "result = sm.Logit(y,x).fit()\n",
    "print(result.summary())"
   ]
  },
  {
   "cell_type": "code",
   "execution_count": 21,
   "metadata": {},
   "outputs": [
    {
     "name": "stdout",
     "output_type": "stream",
     "text": [
      "This is the predicted probability of O-ring damage on the day the shuttle was launched, given that it was 31ºF: 0.999999999780814.\n"
     ]
    }
   ],
   "source": [
    "x = 31\n",
    "probability = (1)/(1+np.exp(-15.0429+(-.2322)*(x)))\n",
    "print(\"This is the predicted probability of O-ring damage on the day the shuttle was launched, given that it was 31ºF: \" \n",
    "      + str(probability) + \".\")"
   ]
  },
  {
   "cell_type": "code",
   "execution_count": null,
   "metadata": {},
   "outputs": [],
   "source": []
  }
 ],
 "metadata": {
  "kernelspec": {
   "display_name": "Python 3",
   "language": "python",
   "name": "python3"
  },
  "language_info": {
   "codemirror_mode": {
    "name": "ipython",
    "version": 3
   },
   "file_extension": ".py",
   "mimetype": "text/x-python",
   "name": "python",
   "nbconvert_exporter": "python",
   "pygments_lexer": "ipython3",
   "version": "3.8.2"
  }
 },
 "nbformat": 4,
 "nbformat_minor": 4
}
