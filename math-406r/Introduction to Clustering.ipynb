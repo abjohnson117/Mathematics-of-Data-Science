{
 "cells": [
  {
   "cell_type": "markdown",
   "metadata": {},
   "source": [
    "Exercise 7.1"
   ]
  },
  {
   "cell_type": "code",
   "execution_count": 9,
   "metadata": {},
   "outputs": [],
   "source": [
    "import numpy as np\n",
    "from pyclustering.cluster.kmeans import kmeans\n",
    "from pyclustering.cluster.kmedians import kmedians\n",
    "import random"
   ]
  },
  {
   "cell_type": "code",
   "execution_count": 23,
   "metadata": {},
   "outputs": [
    {
     "name": "stdout",
     "output_type": "stream",
     "text": [
      "kmeans:\n",
      " [[-2.044312647663993], [-0.036832266437547924], [1.5256271249103786]]\n",
      "kmedians:\n",
      " [[-1.5503246093721834], [0.14355177737028058], [1.3243708257311255]]\n",
      "Original centers: -2, 0, 2\n"
     ]
    }
   ],
   "source": [
    "g1 = np.transpose(np.random.normal(size = (1,20)))\n",
    "g2 = np.transpose(np.random.normal(loc = -2, size = (1,20)))\n",
    "g3 = np.transpose(np.random.normal(loc = 2, size = (1,20)))\n",
    "\n",
    "sample = np.concatenate((g1,g2,g3))\n",
    "random.shuffle(sample)\n",
    "\n",
    "kmeans_instance = kmeans(sample, [[-.1],[0],[.1]])\n",
    "kmeans_instance.process()\n",
    "print(\"kmeans:\\n\", kmeans_instance.get_centers())\n",
    "\n",
    "kmedians_instance = kmedians(sample, [[-.1],[0],[.1]])\n",
    "kmedians_instance.process()\n",
    "print(\"kmedians:\\n\", kmedians_instance.get_medians())\n",
    "\n",
    "print(\"Original centers: -2, 0, 2\")"
   ]
  },
  {
   "cell_type": "code",
   "execution_count": null,
   "metadata": {},
   "outputs": [],
   "source": []
  }
 ],
 "metadata": {
  "kernelspec": {
   "display_name": "Python 3",
   "language": "python",
   "name": "python3"
  },
  "language_info": {
   "codemirror_mode": {
    "name": "ipython",
    "version": 3
   },
   "file_extension": ".py",
   "mimetype": "text/x-python",
   "name": "python",
   "nbconvert_exporter": "python",
   "pygments_lexer": "ipython3",
   "version": "3.8.2"
  }
 },
 "nbformat": 4,
 "nbformat_minor": 4
}
